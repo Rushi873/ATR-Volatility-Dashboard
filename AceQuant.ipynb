{
 "cells": [
  {
   "cell_type": "markdown",
   "id": "eafd95fd-ceb6-4d4c-8694-3e7b4509e200",
   "metadata": {},
   "source": [
    "# Ace Quant Test"
   ]
  },
  {
   "cell_type": "markdown",
   "id": "7dfd29db-4044-4d87-bd87-36763f2e7765",
   "metadata": {},
   "source": [
    "## Answer 1"
   ]
  },
  {
   "cell_type": "markdown",
   "id": "af40070f-116d-4abe-969f-561e540d32b1",
   "metadata": {},
   "source": [
    "### *The cost of stock on each day is given in an array A[ ] of size N. Find all the segments of days on which you buy and sell the stock so that in between those days your profit is maximum.*"
   ]
  },
  {
   "cell_type": "raw",
   "id": "69a597ec-7077-4ff5-a785-72ed81f6adac",
   "metadata": {},
   "source": [
    "Using Greedy algorithm with O(N) time complexity"
   ]
  },
  {
   "cell_type": "code",
   "execution_count": 1,
   "id": "f39fdb03-8ec1-484b-bd84-e43af592e1e9",
   "metadata": {},
   "outputs": [],
   "source": [
    "def stockBuySell(A, N):\n",
    "    if N < 2:\n",
    "        return []  \n",
    "\n",
    "    result = []\n",
    "    i = 0\n",
    "\n",
    "    while i < N - 1:\n",
    "        while i < N - 1 and A[i] >= A[i + 1]:\n",
    "            i += 1\n",
    "        if i == N - 1:\n",
    "            break  \n",
    "        \n",
    "        buy = i  \n",
    "        i += 1  \n",
    "        \n",
    "        while i < N and A[i] >= A[i - 1]:\n",
    "            i += 1\n",
    "        sell = i - 1  \n",
    "\n",
    "        result.append([buy, sell])\n",
    "\n",
    "    return result\n"
   ]
  },
  {
   "cell_type": "raw",
   "id": "742e0e11-55a9-4155-9eef-0973030f9e10",
   "metadata": {},
   "source": [
    "Logic:\n",
    "- First, the code checks if the len(array)<2, otherwise return empty list.\n",
    "- First while - loop for traversing until i < len(array)-1, and then containing 2 nested while loop for getting buy and sell day's index.\n",
    "- The first nested while loop moves forward, to know if the price is decreasing to find the buy day.\n",
    "- The second nested while loop moves forward, to know if the price is increasing to find the sell day.\n",
    "- The algorithm used is Greedy because it can observe a datapoint/element that is 1 index ahead/behind and not further in 1 step.\n"
   ]
  },
  {
   "cell_type": "code",
   "execution_count": 4,
   "id": "340b4e00-85e8-4db5-9cc4-de89d1df1f67",
   "metadata": {},
   "outputs": [
    {
     "data": {
      "text/plain": [
       "[[0, 3], [4, 6]]"
      ]
     },
     "execution_count": 4,
     "metadata": {},
     "output_type": "execute_result"
    }
   ],
   "source": [
    "N = 7\n",
    "A = [100,180,260,310,40,535,695]\n",
    "Days = stockBuySell(A,N)\n",
    "Days"
   ]
  },
  {
   "cell_type": "code",
   "execution_count": 5,
   "id": "6cbc1a98-6900-4b55-ba45-46ddd8686ebc",
   "metadata": {},
   "outputs": [
    {
     "data": {
      "text/plain": [
       "[[3, 4]]"
      ]
     },
     "execution_count": 5,
     "metadata": {},
     "output_type": "execute_result"
    }
   ],
   "source": [
    "N = 5\n",
    "A = [4,2,2,2,4]\n",
    "Days = stockBuySell(A,N)\n",
    "Days"
   ]
  },
  {
   "cell_type": "code",
   "execution_count": 6,
   "id": "9f29f201-7252-49ee-b688-70da99542068",
   "metadata": {},
   "outputs": [
    {
     "data": {
      "text/plain": [
       "[]"
      ]
     },
     "execution_count": 6,
     "metadata": {},
     "output_type": "execute_result"
    }
   ],
   "source": [
    "N = 5\n",
    "A = [10, 9, 8, 7, 6]\n",
    "Days = stockBuySell(A,N)\n",
    "Days"
   ]
  },
  {
   "cell_type": "code",
   "execution_count": 7,
   "id": "d92b9ab2-d398-4098-b5b7-a5441767cf7e",
   "metadata": {},
   "outputs": [
    {
     "data": {
      "text/plain": [
       "[[0, 4]]"
      ]
     },
     "execution_count": 7,
     "metadata": {},
     "output_type": "execute_result"
    }
   ],
   "source": [
    "N = 5\n",
    "A = [1, 2, 3, 4, 5]\n",
    "Days = stockBuySell(A,N)\n",
    "Days"
   ]
  },
  {
   "cell_type": "markdown",
   "id": "9acab679-96f7-43d7-b761-b1866fce0119",
   "metadata": {},
   "source": [
    "## Answer 2"
   ]
  },
  {
   "cell_type": "code",
   "execution_count": 8,
   "id": "a3cc6d2c-f356-43c5-b61e-68d1d191c6ae",
   "metadata": {},
   "outputs": [],
   "source": [
    "import pandas as pd"
   ]
  },
  {
   "cell_type": "code",
   "execution_count": 13,
   "id": "4a232179-139b-4e0b-97d8-695931709b24",
   "metadata": {},
   "outputs": [
    {
     "data": {
      "text/html": [
       "<div>\n",
       "<style scoped>\n",
       "    .dataframe tbody tr th:only-of-type {\n",
       "        vertical-align: middle;\n",
       "    }\n",
       "\n",
       "    .dataframe tbody tr th {\n",
       "        vertical-align: top;\n",
       "    }\n",
       "\n",
       "    .dataframe thead th {\n",
       "        text-align: right;\n",
       "    }\n",
       "</style>\n",
       "<table border=\"1\" class=\"dataframe\">\n",
       "  <thead>\n",
       "    <tr style=\"text-align: right;\">\n",
       "      <th></th>\n",
       "      <th>Group</th>\n",
       "      <th>First</th>\n",
       "      <th>Max</th>\n",
       "      <th>Min</th>\n",
       "      <th>Last</th>\n",
       "      <th>Sum</th>\n",
       "    </tr>\n",
       "  </thead>\n",
       "  <tbody>\n",
       "    <tr>\n",
       "      <th>0</th>\n",
       "      <td>1</td>\n",
       "      <td>10</td>\n",
       "      <td>10</td>\n",
       "      <td>10</td>\n",
       "      <td>10</td>\n",
       "      <td>10</td>\n",
       "    </tr>\n",
       "    <tr>\n",
       "      <th>1</th>\n",
       "      <td>1</td>\n",
       "      <td>15</td>\n",
       "      <td>15</td>\n",
       "      <td>15</td>\n",
       "      <td>15</td>\n",
       "      <td>15</td>\n",
       "    </tr>\n",
       "    <tr>\n",
       "      <th>2</th>\n",
       "      <td>1</td>\n",
       "      <td>25</td>\n",
       "      <td>25</td>\n",
       "      <td>25</td>\n",
       "      <td>25</td>\n",
       "      <td>25</td>\n",
       "    </tr>\n",
       "    <tr>\n",
       "      <th>3</th>\n",
       "      <td>1</td>\n",
       "      <td>5</td>\n",
       "      <td>5</td>\n",
       "      <td>5</td>\n",
       "      <td>5</td>\n",
       "      <td>5</td>\n",
       "    </tr>\n",
       "    <tr>\n",
       "      <th>4</th>\n",
       "      <td>2</td>\n",
       "      <td>20</td>\n",
       "      <td>20</td>\n",
       "      <td>20</td>\n",
       "      <td>20</td>\n",
       "      <td>20</td>\n",
       "    </tr>\n",
       "  </tbody>\n",
       "</table>\n",
       "</div>"
      ],
      "text/plain": [
       "   Group  First  Max  Min  Last  Sum\n",
       "0      1     10   10   10    10   10\n",
       "1      1     15   15   15    15   15\n",
       "2      1     25   25   25    25   25\n",
       "3      1      5    5    5     5    5\n",
       "4      2     20   20   20    20   20"
      ]
     },
     "execution_count": 13,
     "metadata": {},
     "output_type": "execute_result"
    }
   ],
   "source": [
    "data = pd.read_excel(\"Test_Question2.xlsx\")\n",
    "data.head()"
   ]
  },
  {
   "cell_type": "raw",
   "id": "0f1b4473-ab14-4501-892d-6f23a774edb9",
   "metadata": {},
   "source": [
    "Using groupby function from pandas to get the required Output Table."
   ]
  },
  {
   "cell_type": "code",
   "execution_count": 20,
   "id": "8f3b1fab-84dd-4959-9aa9-99b099ddcb47",
   "metadata": {},
   "outputs": [
    {
     "data": {
      "text/html": [
       "<div>\n",
       "<style scoped>\n",
       "    .dataframe tbody tr th:only-of-type {\n",
       "        vertical-align: middle;\n",
       "    }\n",
       "\n",
       "    .dataframe tbody tr th {\n",
       "        vertical-align: top;\n",
       "    }\n",
       "\n",
       "    .dataframe thead th {\n",
       "        text-align: right;\n",
       "    }\n",
       "</style>\n",
       "<table border=\"1\" class=\"dataframe\">\n",
       "  <thead>\n",
       "    <tr style=\"text-align: right;\">\n",
       "      <th></th>\n",
       "      <th>Group</th>\n",
       "      <th>First</th>\n",
       "      <th>Max</th>\n",
       "      <th>Min</th>\n",
       "      <th>Last</th>\n",
       "      <th>Sum</th>\n",
       "    </tr>\n",
       "  </thead>\n",
       "  <tbody>\n",
       "    <tr>\n",
       "      <th>0</th>\n",
       "      <td>1</td>\n",
       "      <td>10</td>\n",
       "      <td>25</td>\n",
       "      <td>5</td>\n",
       "      <td>5</td>\n",
       "      <td>55</td>\n",
       "    </tr>\n",
       "    <tr>\n",
       "      <th>1</th>\n",
       "      <td>2</td>\n",
       "      <td>20</td>\n",
       "      <td>20</td>\n",
       "      <td>10</td>\n",
       "      <td>10</td>\n",
       "      <td>45</td>\n",
       "    </tr>\n",
       "    <tr>\n",
       "      <th>2</th>\n",
       "      <td>3</td>\n",
       "      <td>5</td>\n",
       "      <td>35</td>\n",
       "      <td>5</td>\n",
       "      <td>35</td>\n",
       "      <td>115</td>\n",
       "    </tr>\n",
       "    <tr>\n",
       "      <th>3</th>\n",
       "      <td>4</td>\n",
       "      <td>10</td>\n",
       "      <td>55</td>\n",
       "      <td>10</td>\n",
       "      <td>55</td>\n",
       "      <td>115</td>\n",
       "    </tr>\n",
       "    <tr>\n",
       "      <th>4</th>\n",
       "      <td>5</td>\n",
       "      <td>30</td>\n",
       "      <td>40</td>\n",
       "      <td>20</td>\n",
       "      <td>20</td>\n",
       "      <td>90</td>\n",
       "    </tr>\n",
       "  </tbody>\n",
       "</table>\n",
       "</div>"
      ],
      "text/plain": [
       "   Group  First  Max  Min  Last  Sum\n",
       "0      1     10   25    5     5   55\n",
       "1      2     20   20   10    10   45\n",
       "2      3      5   35    5    35  115\n",
       "3      4     10   55   10    55  115\n",
       "4      5     30   40   20    20   90"
      ]
     },
     "execution_count": 20,
     "metadata": {},
     "output_type": "execute_result"
    }
   ],
   "source": [
    "output = data.groupby('Group').agg({\n",
    "    'First': 'first',   \n",
    "    'Max': 'max',       \n",
    "    'Min': 'min',       \n",
    "    'Last': 'last',    \n",
    "    'Sum': 'sum'       \n",
    "}).reset_index()\n",
    "output\n"
   ]
  },
  {
   "cell_type": "code",
   "execution_count": null,
   "id": "661e7c2a-e485-463b-82a4-c22b37414783",
   "metadata": {},
   "outputs": [],
   "source": [
    " "
   ]
  }
 ],
 "metadata": {
  "kernelspec": {
   "display_name": "Python 3 (ipykernel)",
   "language": "python",
   "name": "python3"
  },
  "language_info": {
   "codemirror_mode": {
    "name": "ipython",
    "version": 3
   },
   "file_extension": ".py",
   "mimetype": "text/x-python",
   "name": "python",
   "nbconvert_exporter": "python",
   "pygments_lexer": "ipython3",
   "version": "3.11.8"
  },
  "widgets": {
   "application/vnd.jupyter.widget-state+json": {
    "state": {},
    "version_major": 2,
    "version_minor": 0
   }
  }
 },
 "nbformat": 4,
 "nbformat_minor": 5
}
